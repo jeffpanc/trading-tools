{
 "cells": [
  {
   "cell_type": "markdown",
   "id": "d4d71a43-de52-4b57-a96a-2545bb674fc3",
   "metadata": {},
   "source": [
    "### Import Libraries"
   ]
  },
  {
   "cell_type": "code",
   "execution_count": 1,
   "id": "841df2b3-8fc7-402d-953d-e4342a8b07aa",
   "metadata": {},
   "outputs": [],
   "source": [
    "# path for custom libraries to import\n",
    "import sys\n",
    "sys.path.append('/Users/jeff/Dropbox/Trading/Python/src/JP_Tools')\n",
    "\n",
    "# import the necessary libraries.\n",
    "import streamlit as st\n",
    "import pandas as pd\n",
    "import statistics_lib\n",
    "import plots_lib\n",
    "import reports_lib\n",
    "import matplotlib.ticker as mtick\n",
    "import matplotlib.pyplot as plt\n"
   ]
  },
  {
   "cell_type": "code",
   "execution_count": 2,
   "id": "5acdf837-cfda-4063-95b7-78e44379c846",
   "metadata": {},
   "outputs": [],
   "source": [
    "# level selection data structure\n",
    "levels = [\n",
    "    0,\n",
    "    1,\n",
    "    2,\n",
    "    3,\n",
    "]"
   ]
  },
  {
   "cell_type": "code",
   "execution_count": null,
   "id": "a2a3348c-d507-4fc8-ae1d-09289e53186f",
   "metadata": {},
   "outputs": [],
   "source": [
    "# set the title of the app, add a brief description, and set up the select boxes.\n",
    "st.header(\"📊 Statistical Analysis of Account and Trading Outcomes\", divider = 'rainbow')\n",
    "st.markdown(\"\"\"**👈 Select parameters from the sidebar and press the \"Start Analysis\" button** \"\"\")\n",
    "\n",
    "\n",
    "st.sidebar.header(\"Parameters\", divider = 'rainbow')\n",
    "\n",
    "with st.form('User Input'):\n",
    "    selected_level = st.sidebar.number_input(\"Select the level of statistics to use:\", min_value=0, max_value=3, value=0, step=1, format=\"%i\", help='See the intro page for level contents.')    \n",
    "    selected_Rf = st.sidebar.number_input(\"Select the risk free rate of return percentage:\", min_value=0.00, max_value=0.10, value=0.00, step=0.01, format=\"%.2f\", help='Typically the short-term, 3-month T-Bill rate.')\n",
    "    selected_period = st.sidebar.text_input(\"Select the periodicity:\", value=\"D\", max_chars=1, help=' M=month, D=Day')\n",
    "    selected_bmark = st.sidebar.text_input(\"Select the benchmark name:\", value=\"SPY\", max_chars=4, help='Provide ticker (e.g. SPY, QQQ, etc.)')\n",
    "    selected_trades_file = st.sidebar.file_uploader(\"Choose a .csv file for trades data:\", help='File header and field format is: | date (trade end date) | returns (trade $ return) | return_pct (trade return percent) |. Best to have 100+ trades.')\n",
    "    selected_account_file = st.sidebar.file_uploader(\"Choose a .csv file for account data:\", help='File header and field format is: | date (trade end date) | returns (trade $ return) | return_pct (trade return percent) |. Best to have 100+ trades.')\n",
    "    selected_bmark_file = st.sidebar.file_uploader(\"Choose a .csv file for benchmark data:\", help='File header and field format is: | date (trade end date) | returns (trade $ return) | return_pct (trade return percent) |. Best to have 100+ trades.')\n",
    "    submit = st.form_submit_button('Start Analysis')\n",
    "\n",
    "    if submit:\n",
    "        # download the data, apply the selected parameters, and run the statistics routine\n",
    "        trades = pd.read_csv(selected_trades_file)\n",
    "        trades.set_index('date', drop=True, inplace=True)\n",
    "        trades.index = pd.to_datetime(trades.index)\n",
    "        \n",
    "        account = pd.read_csv(selected_account_file)\n",
    "        account.set_index('date', drop=True, inplace=True)\n",
    "        account.index = pd.to_datetime(account.index)\n",
    "        \n",
    "        bmark = pd.read_csv(selected_bmark_file)\n",
    "        bmark.set_index('date', drop=True, inplace=True)\n",
    "        bmark.index = pd.to_datetime(bmark.index)\n",
    "\n",
    "        if selected_level == 0:\n",
    "            L0 = reports_lib.make_L0_metrics(account, bmark, selected_bmark, selected_periodicity, selected_Rf)\n",
    "            st.dataframe(L0)\n",
    "        elif selected_level == 1:\n",
    "            L0 = reports_lib.make_L0_metrics(account, bmark, selected_bmark, selected_periodicity, selected_Rf)\n",
    "            st.dataframe(L0)\n",
    "            L1 = reports_lib.make_L1_metrics(trades)\n",
    "            st.dataframe(L1)\n",
    "        elif selected_level == 2:\n",
    "            L0 = reports_lib.make_L0_metrics(account, bmark, selected_bmark, selected_periodicity, selected_Rf)\n",
    "            st.dataframe(L0)\n",
    "            L2 = reports_lib.make_L2_metrics(account, bmark, selected_bmark, selected_periodicity, selected_Rf)\n",
    "            st.dataframe(L2)\n",
    "        elif selected_level == 3:\n",
    "            L0 = reports_lib.make_L0_metrics(account, bmark, selected_bmark, selected_periodicity, selected_Rf)\n",
    "            st.dataframe(L0)\n",
    "            L1 = reports_lib.make_L1_metrics(trades)\n",
    "            st.dataframe(L1)\n",
    "            L2 = reports_lib.make_L2_metrics(account, bmark, selected_bmark, selected_periodicity, selected_Rf)\n",
    "            st.dataframe(L2)\n",
    "        \n",
    "        \n"
   ]
  },
  {
   "cell_type": "code",
   "execution_count": null,
   "id": "02368ad3-96af-496b-9c21-fe1caff5f286",
   "metadata": {},
   "outputs": [],
   "source": []
  }
 ],
 "metadata": {
  "kernelspec": {
   "display_name": "Python 3 (ipykernel)",
   "language": "python",
   "name": "python3"
  },
  "language_info": {
   "codemirror_mode": {
    "name": "ipython",
    "version": 3
   },
   "file_extension": ".py",
   "mimetype": "text/x-python",
   "name": "python",
   "nbconvert_exporter": "python",
   "pygments_lexer": "ipython3",
   "version": "3.10.13"
  }
 },
 "nbformat": 4,
 "nbformat_minor": 5
}
